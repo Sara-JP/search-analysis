{
 "cells": [
  {
   "cell_type": "markdown",
   "id": "d333515a",
   "metadata": {},
   "source": [
    "<h1 align=center style=\"line-height:200%;font-family:vazir;color:#0099cc\">\n",
    "<font face=\"vazir\" color=\"#0099cc\">\n",
    "تحلیل جست‌و‌جو\n",
    "</font>\n",
    "</h1>"
   ]
  },
  {
   "cell_type": "markdown",
   "id": "6ed20bff",
   "metadata": {},
   "source": [
    "<h2 align=right style=\"line-height:200%;font-family:vazir;color:#0099cc\">\n",
    "<font face=\"vazir\" color=\"#0099cc\">\n",
    "مقدمه و صورت مسئله\n",
    "</font>\n",
    "</h2>\n",
    "\n",
    "<p dir=rtl style=\"direction: rtl; text-align: justify; line-height:200%; font-family:vazir; font-size:medium\">\n",
    "<font face=\"vazir\" size=3>\n",
    "   در دنیای صنعت معمولاً از یک مهندس یادگیری ماشین انتظار می‌رود تا به مهارت تحلیل داده نیز آراسته باشد. جدا از این‌که ممکن است در خواسته‌های پروژه و کارفرما پرسش‌هایی مطرح شده باشد که پاسخ آن از راه تحلیل داده به دست می‌آید، تحلیل و تفسیر داده‌ها در گام‌های ابتدایی پروژه به ما کمک می‌کند تا آشنایی عمیق‌تری با داده‌هایی که در اختیارمان قرار گرفته پیدا کنیم. چنین درکی می‌تواند منجر به انتخاب راه‌حل‌ها و الگوریتم‌های مناسب‌تری در هنگام حل مسئله‌ی یادگیری ماشین شود. علاوه بر این، در صورتی‌که مجموعه‌داده‌ی ما دارای چالش‌هایی باشد می‌توانیم در همان مراحل اولیه به شناسایی و رفع آن‌ها بپردازیم.\n",
    "   <br>\n",
    "   با توجه به این موضوع، در این تمرین قصد داریم به تحلیل مجموعه‌داده‌ی جست‌و‌جوی کاربران در وب‌سایت مستربلیط بپردازیم و به چند پرسش تحلیلی، پاسخ دهیم تا به‌اصطلاح دست‌مان گرم شود. شایان ذکر است که در تمرین بعدی نیز به حل یک مسئله‌ی جالب و چالشی بر روی همین مجموعه‌داده خواهید پرداخت. 😉\n",
    "</font>\n",
    "</p>"
   ]
  },
  {
   "cell_type": "markdown",
   "id": "c5af1784",
   "metadata": {},
   "source": [
    "<h2 align=right style=\"line-height:200%;font-family:vazir;color:#0099cc\">\n",
    "<font face=\"vazir\" color=\"#0099cc\">\n",
    "وارد کردن کتابخانه‌های مورد نیاز\n",
    "</font>\n",
    "</h2>\n",
    "\n",
    "<p dir=rtl style=\"direction: rtl; text-align: justify; line-height:200%; font-family:vazir; font-size:medium\">\n",
    "<font face=\"vazir\" size=3>\n",
    "    ابتدا کتابخانه‌های مورد نیازتان را وارد کنید.\n",
    "</font>\n",
    "</p>"
   ]
  },
  {
   "cell_type": "code",
   "execution_count": null,
   "id": "99450f9e",
   "metadata": {},
   "outputs": [],
   "source": [
    "import numpy as np\n",
    "import pandas as pd\n",
    "import plotly.express as px"
   ]
  },
  {
   "cell_type": "markdown",
   "id": "72faaed8",
   "metadata": {},
   "source": [
    "<h2 align=right style=\"line-height:200%;font-family:vazir;color:#0099cc\">\n",
    "<font face=\"vazir\" color=\"#0099cc\">\n",
    "معرفی مجموعه داده\n",
    "</font>\n",
    "</h2>\n",
    "\n",
    "<p dir=rtl style=\"direction: rtl; text-align: justify; line-height:200%; font-family:vazir; font-size:medium\">\n",
    "<font face=\"vazir\" size=3>\n",
    "    هر نمونه‌ی آموزشی از این مجموعه‌داده که در فایل <code dir=ltr>mrbilit_search.json</code> ذخیره شده مربوط به یک مرتبه جست‌و‌جوی کاربر در فیلد متنی است و با ویژگی‌هایی که در جدول زیر شرح داده شده همراه است.\n",
    "</font>\n",
    "</p>\n",
    "\n",
    "<center>\n",
    "<div dir=rtl style=\"direction: rtl;line-height:200%;font-family:vazir;font-size:medium\">\n",
    "<font face=\"vazir\" size=3>\n",
    "    \n",
    "|ستون|توضیحات|\n",
    "|:------:|:---:|\n",
    "|<code>ServiceType</code>|نوع سرویس|\n",
    "|<code>TypedStrings</code>|لیستی از رشته‌ی تایپ‌شده‌ی کاربر به ترتیب زمانی|\n",
    "|<code>AcceptString</code>|رشته‌ای که در نهایت انتخاب شده است|\n",
    "\n",
    "</font>\n",
    "</div>\n",
    "</center>\n",
    "\n",
    "<p dir=rtl style=\"direction: rtl; text-align: justify; line-height:200%; font-family:vazir; font-size:medium\">\n",
    "<font face=\"vazir\" size=3>\n",
    "    همچنین لیستی از شهرهای ایران همراه با برخی اطلاعات مهم‌شان از ویکی‌پدیا جمع‌آوری شده و در فایلی با نام <code>iran_cities.csv</code> قرار گرفته است. این مجموعه‌داده‌ هرچند ناکامل است اما اکثر شهرهای مورد جست‌و‌جو را پوشش می‌دهد. ستون‌های این مجموعه‌داده در جدول زیر شرح داده شده است.\n",
    "</font>\n",
    "</p>\n",
    "\n",
    "<center>\n",
    "<div dir=rtl style=\"direction: rtl;line-height:200%;font-family:vazir;font-size:medium\">\n",
    "<font face=\"vazir\" size=3>\n",
    "    \n",
    "|ستون|توضیحات|\n",
    "|:------:|:---:|\n",
    "|<code>City EN</code>|نام انگلیسی شهر|\n",
    "|<code>City FA</code>|نام فارسی شهر |\n",
    "|<code>Province</code>|استان|\n",
    "|<code>Countise</code>|شهرستان|\n",
    "|<code>District</code>|بخش|\n",
    "|<code>Latitude</code>|عرض جغرافیایی|\n",
    "|<code>Longitude</code>|طول جغرافیایی|\n",
    "|<code>Area</code>|مساحت (کیلومتر مربع)|\n",
    "|<code>Elevation</code>|ارتفاع (متر)|\n",
    "|<code>2016 Census</code>|جمعیت سال ۲۰۱۶|\n",
    "|<code>2011 Census</code>|جمعیت سال ۲۰۱۱|\n",
    "|<code>Wikipedia EN</code>|لینک ویکی‌پدیا انگلیسی|\n",
    "|<code>Wikipedia FA</code>|لینک ویکی‌پدیا فارسی|\n",
    "|<code>GeoHack</code>|لینک سایت GeoHack|\n",
    "\n",
    "</font>\n",
    "</div>\n",
    "</center>"
   ]
  },
  {
   "cell_type": "markdown",
   "id": "e99bbe9b",
   "metadata": {},
   "source": [
    "<h2 align=right style=\"line-height:200%;font-family:vazir;color:#0099cc\">\n",
    "<font face=\"vazir\" color=\"#0099cc\">\n",
    "خواندن مجموعه داده\n",
    "</font>\n",
    "</h2>\n",
    "\n",
    "<p dir=rtl style=\"direction: rtl; text-align: justify; line-height:200%; font-family:vazir; font-size:medium\">\n",
    "<font face=\"vazir\" size=3>\n",
    "    در ابتدا می‌توانید فایل‌های مجموعه‌داده‌ها را بخوانید. لازم به ذکر است برای خواندن فایل‌های <code>json</code> به شکل یک دیتافریم <code>pandas</code> می‌توانید از تابع <code dir=ltr>read_json()</code> استفاده کنید.\n",
    "</font>\n",
    "</p>"
   ]
  },
  {
   "cell_type": "code",
   "execution_count": null,
   "id": "7dcb9e87",
   "metadata": {},
   "outputs": [],
   "source": [
    "data = None # To-Do\n",
    "data.head()"
   ]
  },
  {
   "cell_type": "code",
   "execution_count": null,
   "id": "85dde0e2",
   "metadata": {},
   "outputs": [],
   "source": [
    "cities = None # To-Do\n",
    "cities.head()"
   ]
  },
  {
   "cell_type": "markdown",
   "id": "23daec54",
   "metadata": {},
   "source": [
    "<h2 align=right style=\"line-height:200%;font-family:vazir;color:#0099cc\">\n",
    "<font face=\"vazir\" color=\"#0099cc\">\n",
    "محبوبیت سرویس‌ها\n",
    "</font>\n",
    "</h2>\n",
    "\n",
    "<p dir=rtl style=\"direction: rtl; text-align: justify; line-height:200%; font-family:vazir; font-size:medium\">\n",
    "<font face=\"vazir\" size=3>\n",
    "در ابتدا قصد داریم درصد محبوبیت هرکدام از سرویس‌ها (اتوبوس، هواپیما، تاکسی و غیره) را بررسی کنیم. برای این کار نیاز است به ازای هر سرویس (ستون <code>ServiceType</code>) محاسبه کنید که چند درصد از کل جست‌و‌جوها را شامل می‌شود. پاسخ خود را به شکل یک دیکشنری و همچون فرمت زیر در متغیر <code>percentages</code> ذخیره کنید. سپس به کمک کدی که برای‌تان آماده شده می‌توانید نمودار دایره‌ای (Pie Chart) آن را رسم کنید.\n",
    "</font>\n",
    "</p>"
   ]
  },
  {
   "cell_type": "code",
   "execution_count": null,
   "id": "347cc244",
   "metadata": {},
   "outputs": [],
   "source": [
    "percentages = {'bus': 0,\n",
    "               'flight': 0,\n",
    "               'train': 0,\n",
    "               'hotel': 0,\n",
    "               'taxi': 0,\n",
    "               'ship': 0}"
   ]
  },
  {
   "cell_type": "code",
   "execution_count": null,
   "id": "0acd4ffc",
   "metadata": {},
   "outputs": [],
   "source": [
    "fig = px.pie(values=percentages.values(),\n",
    "             names=list(percentages.keys()),\n",
    "             title='Pie Chart of Service Types')\n",
    "fig.show()"
   ]
  },
  {
   "cell_type": "markdown",
   "id": "be01d09f",
   "metadata": {},
   "source": [
    "<h2 align=right style=\"line-height:200%;font-family:vazir;color:#0099cc\">\n",
    "<font face=\"vazir\" color=\"#0099cc\">\n",
    "پیش‌پردازش\n",
    "</font>\n",
    "</h2>\n",
    "\n",
    "<p dir=rtl style=\"direction: rtl; text-align: justify; line-height:200%; font-family:vazir; font-size:medium\">\n",
    "<font face=\"vazir\" size=3>\n",
    "برای حل قسمت‌های بعدی نیاز به شمارش جست‌و‌جوها براساس شهر خواهیم داشت. با این حال، اگر مقادیر ستون <code>AcceptString</code> را مشاهده کنید، متوجه خواهید شد که برخی از مقادیر به شکلی مثل «شیراز - پایانه امیرکبیر» نوشته شده‌اند. برای این‌که چنین مقادیری نیز تنها به اسم شهر تبدیل شوند نیاز است در این ستون دنبال تمام مقادیری که شامل عبارت « - پایانه» هستند بگردید و آن‌ها را با بخش اول مقدار یعنی نام شهر جایگزین کنید. به‌عنوان مثال به‌جای «شیراز - پایانه امیرکبیر» باید مقدار «شیراز» قرار گیرد. دیتافریم حاصل را در متغیری به نام <code>preprocessed_data</code> ذخیره کنید.\n",
    "</font>\n",
    "</p>"
   ]
  },
  {
   "cell_type": "code",
   "execution_count": null,
   "id": "3c905f9e",
   "metadata": {},
   "outputs": [],
   "source": [
    "preprocessed_data = data.copy()\n",
    "\n",
    "# To-Do\n",
    "\n",
    "preprocessed_data.head()"
   ]
  },
  {
   "cell_type": "markdown",
   "id": "bccb7eab",
   "metadata": {},
   "source": [
    "<p dir=rtl style=\"direction: rtl; text-align: justify; line-height:200%; font-family:vazir; font-size:medium\">\n",
    "<font face=\"vazir\" size=3 color=green>\n",
    "<b>نکته:</b>\n",
    "</font>\n",
    "<font face=\"vazir\" size=3>\n",
    "قسمت‌های بعدی را با دیتافریم <code>preprocessed_data</code> ادامه دهید. توجه داشته باشید که مقادیر موجود در این دیتافریم را تغییری ندهید.\n",
    "</font>\n",
    "</p>"
   ]
  },
  {
   "cell_type": "markdown",
   "id": "bf2dd22d",
   "metadata": {},
   "source": [
    "<h2 align=right style=\"line-height:200%;font-family:vazir;color:#0099cc\">\n",
    "<font face=\"vazir\" color=\"#0099cc\">\n",
    "بیشترین جست‌و‌جوها\n",
    "</font>\n",
    "</h2>\n",
    "\n",
    "<p dir=rtl style=\"direction: rtl; text-align: justify; line-height:200%; font-family:vazir; font-size:medium\">\n",
    "<font face=\"vazir\" size=3>\n",
    "در این قسمت ابتدا تنها سطرهایی را که سرویس‌شان از نوع هتل نیست در دیتافریم دیگری به نام <code>data_transport</code> ذخیره کنید.\n",
    "حال در این دیتافریم کدام شهرها (ستون <code>AcceptString</code>) بیشترین جست‌و‌جو را داشته‌اند؟ نام <b>۲۰</b> مورد محبوب‌تر را به‌ترتیب در لیستی به نام <code>top_cities</code> ذخیره کنید. در نهایت به کمک کدی که برای‌تان آماده کرده‌ایم نمودار هیستوگرام این شهرها رسم خواهد شد.\n",
    "</font>\n",
    "</p>"
   ]
  },
  {
   "cell_type": "code",
   "execution_count": null,
   "id": "ed634757",
   "metadata": {},
   "outputs": [],
   "source": [
    "data_transport = None # To-Do"
   ]
  },
  {
   "cell_type": "code",
   "execution_count": null,
   "id": "a85ce91a",
   "metadata": {},
   "outputs": [],
   "source": [
    "top_cities = [] # To-Do\n",
    "top_cities"
   ]
  },
  {
   "cell_type": "code",
   "execution_count": null,
   "id": "f085f598",
   "metadata": {},
   "outputs": [],
   "source": [
    "temp = data_transport[data_transport['AcceptString'].isin(top_cities)]\n",
    "fig = px.histogram(temp, x=\"AcceptString\", title='Histogram of Top 20 Cities')\n",
    "fig.show()"
   ]
  },
  {
   "cell_type": "markdown",
   "id": "7ce7edf7",
   "metadata": {},
   "source": [
    "<h2 align=right style=\"line-height:200%;font-family:vazir;color:#0099cc\">\n",
    "<font face=\"vazir\" color=\"#0099cc\">\n",
    "پرجست‌و‌جوترین استان‌ها\n",
    "</font>\n",
    "</h2>\n",
    "\n",
    "<p dir=rtl style=\"direction: rtl; text-align: justify; line-height:200%; font-family:vazir; font-size:medium\">\n",
    "<font face=\"vazir\" size=3>\n",
    "در این قسمت استان‌ها را از نظر مجموع جست‌و‌جوی شهرهای‌شان مرتب کرده و نام <b>۱۵ مورد برتر</b> را در لیستی به نام <code>top_provinces</code> ذخیره کنید. برای این کار باز هم سرویس هتل را در نظر نگیرید (از دیتافریم مرحله‌ی قبل یعنی <code>data_transport</code> استفاده کنید). توجه کنید که برای پیدا کردن نام استان هرکدام از شهرهای مورد جست‌و‌جو می‌توانید از مجموعه‌داده‌ی شهرهای ایران (فایل <code>iran_cities.csv</code>) استفاده کنید. تنها آن سطرهایی را در نظر بگیرید که مقدار ستون <code>AcceptString</code> دیتافریم اصلی در ستون <code>City FA</code> دیتافریم شهرها وجود داشته باشد. به‌عبارت دیگر اگر یک عبارت مورد جست‌و‌جو در نام فارسی مجموعه‌داده‌ی شهرها وجود نداشت از آن صرف‌نظر کنید. در صورت علاقه می‌توانید مثل بخش قبل هیستوگرام آن را نیز رسم کنید.\n",
    "</font>\n",
    "</p>"
   ]
  },
  {
   "cell_type": "code",
   "execution_count": null,
   "id": "2b486257",
   "metadata": {},
   "outputs": [],
   "source": [
    "top_provinces = [] # To-Do"
   ]
  },
  {
   "cell_type": "markdown",
   "id": "d767da96",
   "metadata": {},
   "source": [
    "<h2 align=right style=\"line-height:200%;font-family:vazir;color:#0099cc\">\n",
    "<font face=\"vazir\" color=\"#0099cc\">\n",
    "تحلیل جمعیت\n",
    "</font>\n",
    "</h2>\n",
    "\n",
    "<p dir=rtl style=\"direction: rtl; text-align: justify; line-height:200%; font-family:vazir; font-size:medium\">\n",
    "<font face=\"vazir\" size=3>\n",
    "در ادامه‌ی پرسش قبل؛\n",
    "از بین شهرهایی که طبق سرشماری سال ۲۰۱۶ (ستون <code dir=ltr>2016 Census</code>) جمعیت بالای <b>۵۰۰ هزار نفر</b> داشته‌اند، کدام شهرها جزو ۲۰ شهر پر جست‌و‌جو (متغیر <code>top_cities</code>) نیستند؟ حاصل را به شکل یک لیست در متغیری به نام <code>not_in_top</code> ذخیره کنید (ترتیب اهمیتی ندارد). \n",
    "</font>\n",
    "</p>"
   ]
  },
  {
   "cell_type": "code",
   "execution_count": null,
   "id": "ddf12635",
   "metadata": {},
   "outputs": [],
   "source": [
    "not_in_top = [] # To-Do"
   ]
  },
  {
   "cell_type": "markdown",
   "id": "0a77e7cd",
   "metadata": {},
   "source": [
    "<h2 align=right style=\"line-height:200%;font-family:vazir;color:#0099cc\">\n",
    "<font face=\"vazir\" color=\"#0099cc\">\n",
    "<b>سلول جواب‌ساز</b>\n",
    "</font>\n",
    "</h2>\n",
    "\n",
    "<p dir=rtl style=\"direction: rtl; text-align: justify; line-height:200%; font-family:vazir; font-size:medium\">\n",
    "<font face=\"vazir\" size=3>\n",
    "    برای ساخته‌شدن فایل <code>result.zip</code> سلول زیر را اجرا کنید. توجه داشته باشید که پیش از اجرای سلول زیر تغییرات اعمال شده در نت‌بوک را ذخیره کرده باشید (<code>ctrl+s</code>) تا در صورت نیاز به پشتیبانی امکان بررسی کد شما وجود داشته باشد.\n",
    "</font>\n",
    "</p>"
   ]
  },
  {
   "cell_type": "code",
   "execution_count": null,
   "id": "2c3bcd76",
   "metadata": {},
   "outputs": [],
   "source": [
    "import zipfile\n",
    "import joblib\n",
    "import json\n",
    "\n",
    "def compress(file_names):\n",
    "    print(\"File Paths:\")\n",
    "    print(file_names)\n",
    "    compression = zipfile.ZIP_DEFLATED\n",
    "    with zipfile.ZipFile(\"result.zip\", mode=\"w\") as zf:\n",
    "        for file_name in file_names:\n",
    "            zf.write('./' + file_name, file_name, compress_type=compression)\n",
    "\n",
    "json.dump(percentages, open('percentages.json', 'w'))\n",
    "preprocessed_data.to_csv('preprocessed_data.csv', index=False)\n",
    "data_transport.to_csv('data_transport.csv', index=False)\n",
    "json.dump(top_cities, open('top_cities.json', 'w'))\n",
    "json.dump(top_provinces, open('top_provinces.json', 'w'))\n",
    "json.dump(not_in_top, open('not_in_top.json', 'w'))\n",
    "\n",
    "file_names = ['search_analysis.ipynb', 'percentages.json', 'preprocessed_data.csv',\n",
    "              'data_transport.csv', 'top_cities.json', 'top_provinces.json', 'not_in_top.json']\n",
    "compress(file_names)"
   ]
  }
 ],
 "metadata": {
  "kernelspec": {
   "display_name": "Python 3 (ipykernel)",
   "language": "python",
   "name": "python3"
  },
  "language_info": {
   "codemirror_mode": {
    "name": "ipython",
    "version": 3
   },
   "file_extension": ".py",
   "mimetype": "text/x-python",
   "name": "python",
   "nbconvert_exporter": "python",
   "pygments_lexer": "ipython3",
   "version": "3.9.2"
  },
  "vscode": {
   "interpreter": {
    "hash": "b25290d91e68666390a3f16911fef54d65a01c351d921450f79ed6c4a91d0756"
   }
  }
 },
 "nbformat": 4,
 "nbformat_minor": 5
}
